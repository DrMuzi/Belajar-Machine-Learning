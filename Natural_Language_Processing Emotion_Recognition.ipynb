{
  "metadata": {
    "kernelspec": {
      "language": "python",
      "display_name": "Python 3",
      "name": "python3"
    },
    "language_info": {
      "pygments_lexer": "ipython3",
      "nbconvert_exporter": "python",
      "version": "3.6.4",
      "file_extension": ".py",
      "codemirror_mode": {
        "name": "ipython",
        "version": 3
      },
      "name": "python",
      "mimetype": "text/x-python"
    },
    "colab": {
      "name": "Copy of assignment_week_6.ipynb",
      "provenance": [],
      "collapsed_sections": [],
      "include_colab_link": true
    },
    "accelerator": "GPU",
    "gpuClass": "standard"
  },
  "nbformat_minor": 0,
  "nbformat": 4,
  "cells": [
    {
      "cell_type": "markdown",
      "metadata": {
        "id": "view-in-github",
        "colab_type": "text"
      },
      "source": [
        "<a href=\"https://colab.research.google.com/github/DrMuzi/Belajar-Machine-Learning/blob/main/Natural_Language_Processing%20Emotion_Recognition.ipynb\" target=\"_parent\"><img src=\"https://colab.research.google.com/assets/colab-badge.svg\" alt=\"Open In Colab\"/></a>"
      ]
    },
    {
      "cell_type": "code",
      "source": [
        "import re\n",
        "import string\n",
        "import numpy as np\n",
        "import pandas as pd\n",
        "import matplotlib.pyplot as plt\n",
        "\n",
        "from sklearn.preprocessing import LabelEncoder\n",
        "from sklearn.model_selection import train_test_split\n",
        "\n",
        "from tensorflow.keras.utils import to_categorical\n",
        "from tensorflow.keras.preprocessing.text import Tokenizer\n",
        "from tensorflow.keras.preprocessing.sequence import pad_sequences\n",
        "\n",
        "from tensorflow.keras.optimizers import Adam\n",
        "from tensorflow.keras.models import Sequential\n",
        "from tensorflow.keras.models import Model\n",
        "from tensorflow.keras.callbacks import EarlyStopping\n",
        "from tensorflow.keras.layers import Dense, LSTM, Embedding, Bidirectional, Activation, Dense, Dropout, Input"
      ],
      "metadata": {
        "_uuid": "8f2839f25d086af736a60e9eeb907d3b93b6e0e5",
        "_cell_guid": "b1076dfc-b9ad-4769-8c92-a6c4dae69d19",
        "execution": {
          "iopub.status.busy": "2021-10-28T16:49:56.359082Z",
          "iopub.execute_input": "2021-10-28T16:49:56.359603Z",
          "iopub.status.idle": "2021-10-28T16:49:56.365625Z",
          "shell.execute_reply.started": "2021-10-28T16:49:56.359565Z",
          "shell.execute_reply": "2021-10-28T16:49:56.364911Z"
        },
        "trusted": true,
        "id": "t68PiZcNQpq0"
      },
      "execution_count": 1,
      "outputs": []
    },
    {
      "cell_type": "code",
      "source": [
        "from google.colab import drive\n",
        "drive.mount('/content/drive')"
      ],
      "metadata": {
        "colab": {
          "base_uri": "https://localhost:8080/"
        },
        "id": "S5tbyjXjQ2FQ",
        "outputId": "509d1b66-0315-44d4-bd08-5d600df65453"
      },
      "execution_count": 2,
      "outputs": [
        {
          "output_type": "stream",
          "name": "stdout",
          "text": [
            "Drive already mounted at /content/drive; to attempt to forcibly remount, call drive.mount(\"/content/drive\", force_remount=True).\n"
          ]
        }
      ]
    },
    {
      "cell_type": "code",
      "source": [
        "# Text preprocessing function\n",
        "str_punc = string.punctuation.replace(',', '').replace(\"'\",'')\n",
        "\n",
        "def clean(text):\n",
        "    global str_punc\n",
        "    text = re.sub(r'[^a-zA-Z ]', '', text)\n",
        "    text = text.lower()\n",
        "    return text    "
      ],
      "metadata": {
        "execution": {
          "iopub.status.busy": "2021-10-28T16:49:24.707767Z",
          "iopub.execute_input": "2021-10-28T16:49:24.70831Z",
          "iopub.status.idle": "2021-10-28T16:49:24.713891Z",
          "shell.execute_reply.started": "2021-10-28T16:49:24.708271Z",
          "shell.execute_reply": "2021-10-28T16:49:24.712859Z"
        },
        "trusted": true,
        "id": "8D27h1V5Qpq5"
      },
      "execution_count": 3,
      "outputs": []
    },
    {
      "cell_type": "code",
      "source": [
        "# Read dataset & Preprocess text\n",
        "df_train = pd.read_csv('/content/drive/MyDrive/train.txt', names=['Text', 'Emotion'], sep=';')\n",
        "df_val = pd.read_csv('/content/drive/MyDrive/val.txt', names=['Text', 'Emotion'], sep=';')\n",
        "df_test = pd.read_csv('/content/drive/MyDrive/test.txt', names=['Text', 'Emotion'], sep=';')\n",
        "\n",
        "X_train = df_train['Text'].apply(clean)\n",
        "y_train = df_train['Emotion']\n",
        "\n",
        "X_test = df_test['Text'].apply(clean)\n",
        "y_test = df_test['Emotion']\n",
        "\n",
        "X_val = df_val['Text'].apply(clean)\n",
        "y_val = df_val['Emotion']"
      ],
      "metadata": {
        "execution": {
          "iopub.status.busy": "2021-10-28T17:00:39.84876Z",
          "iopub.execute_input": "2021-10-28T17:00:39.849444Z",
          "iopub.status.idle": "2021-10-28T17:00:39.970872Z",
          "shell.execute_reply.started": "2021-10-28T17:00:39.849404Z",
          "shell.execute_reply": "2021-10-28T17:00:39.970153Z"
        },
        "trusted": true,
        "id": "orwQDQnyQpq7"
      },
      "execution_count": 4,
      "outputs": []
    },
    {
      "cell_type": "code",
      "source": [
        "X_train"
      ],
      "metadata": {
        "colab": {
          "base_uri": "https://localhost:8080/"
        },
        "id": "awV5zk42j3uh",
        "outputId": "aafc66a6-9769-4245-992e-0d960742193e"
      },
      "execution_count": 5,
      "outputs": [
        {
          "output_type": "execute_result",
          "data": {
            "text/plain": [
              "0                                  i didnt feel humiliated\n",
              "1        i can go from feeling so hopeless to so damned...\n",
              "2         im grabbing a minute to post i feel greedy wrong\n",
              "3        i am ever feeling nostalgic about the fireplac...\n",
              "4                                     i am feeling grouchy\n",
              "                               ...                        \n",
              "15995    i just had a very brief time in the beanbag an...\n",
              "15996    i am now turning and i feel pathetic that i am...\n",
              "15997                       i feel strong and good overall\n",
              "15998    i feel like this was such a rude comment and i...\n",
              "15999    i know a lot but i feel so stupid because i ca...\n",
              "Name: Text, Length: 16000, dtype: object"
            ]
          },
          "metadata": {},
          "execution_count": 5
        }
      ]
    },
    {
      "cell_type": "code",
      "source": [
        "import nltk\n",
        "from nltk.corpus import stopwords\n",
        "nltk.download('stopwords')"
      ],
      "metadata": {
        "colab": {
          "base_uri": "https://localhost:8080/"
        },
        "id": "iUTCRXG3kqQ8",
        "outputId": "9bef2d30-018c-4dc4-b9c7-7520dab8f4ff"
      },
      "execution_count": 6,
      "outputs": [
        {
          "output_type": "stream",
          "name": "stderr",
          "text": [
            "[nltk_data] Downloading package stopwords to /root/nltk_data...\n",
            "[nltk_data]   Package stopwords is already up-to-date!\n"
          ]
        },
        {
          "output_type": "execute_result",
          "data": {
            "text/plain": [
              "True"
            ]
          },
          "metadata": {},
          "execution_count": 6
        }
      ]
    },
    {
      "cell_type": "code",
      "source": [
        "from nltk.stem.porter import PorterStemmer\n",
        "ps = PorterStemmer()\n",
        "def clean(text):\n",
        "    global str_punc\n",
        "    text = re.sub(r'[^a-zA-Z ]', '', text)\n",
        "    text = text.lower()\n",
        "    text = text.split()\n",
        "    text = [ps.stem(word) for word in text if not word in stopwords.words('english')]\n",
        "    text = ' '.join(text)\n",
        "    return text"
      ],
      "metadata": {
        "id": "OMtnZhJklBU9"
      },
      "execution_count": 7,
      "outputs": []
    },
    {
      "cell_type": "code",
      "source": [
        "X_train = df_train['Text'].apply(clean)\n",
        "X_test = df_test['Text'].apply(clean)\n",
        "X_val = df_val['Text'].apply(clean)"
      ],
      "metadata": {
        "id": "X95etmV5lGpd"
      },
      "execution_count": 8,
      "outputs": []
    },
    {
      "cell_type": "code",
      "source": [
        "X_train"
      ],
      "metadata": {
        "colab": {
          "base_uri": "https://localhost:8080/"
        },
        "id": "Fqo2xnyLlRve",
        "outputId": "f91448ba-79c3-488d-f888-22832e34d0ba"
      },
      "execution_count": 9,
      "outputs": [
        {
          "output_type": "execute_result",
          "data": {
            "text/plain": [
              "0                                        didnt feel humili\n",
              "1        go feel hopeless damn hope around someon care ...\n",
              "2                     im grab minut post feel greedi wrong\n",
              "3           ever feel nostalg fireplac know still properti\n",
              "4                                             feel grouchi\n",
              "                               ...                        \n",
              "15995        brief time beanbag said anna feel like beaten\n",
              "15996     turn feel pathet still wait tabl sub teach degre\n",
              "15997                              feel strong good overal\n",
              "15998                       feel like rude comment im glad\n",
              "15999                         know lot feel stupid portray\n",
              "Name: Text, Length: 16000, dtype: object"
            ]
          },
          "metadata": {},
          "execution_count": 9
        }
      ]
    },
    {
      "cell_type": "code",
      "source": [
        "print(df_train['Emotion'].value_counts())\n",
        "print(df_test['Emotion'].value_counts())\n",
        "print(df_val['Emotion'].value_counts())"
      ],
      "metadata": {
        "colab": {
          "base_uri": "https://localhost:8080/"
        },
        "id": "xopbNMIthNGr",
        "outputId": "37ca988a-9353-4b47-fc0e-66339046abe0"
      },
      "execution_count": 10,
      "outputs": [
        {
          "output_type": "stream",
          "name": "stdout",
          "text": [
            "joy         5362\n",
            "sadness     4666\n",
            "anger       2159\n",
            "fear        1937\n",
            "love        1304\n",
            "surprise     572\n",
            "Name: Emotion, dtype: int64\n",
            "joy         695\n",
            "sadness     581\n",
            "anger       275\n",
            "fear        224\n",
            "love        159\n",
            "surprise     66\n",
            "Name: Emotion, dtype: int64\n",
            "joy         704\n",
            "sadness     550\n",
            "anger       275\n",
            "fear        212\n",
            "love        178\n",
            "surprise     81\n",
            "Name: Emotion, dtype: int64\n"
          ]
        }
      ]
    },
    {
      "cell_type": "code",
      "source": [
        "# Visualize classes counts\n",
        "colors = np.array([\"gray\", 'orangered', 'hotpink', 'gold', 'teal', 'cornflowerblue'])\n",
        "\n",
        "plt.bar(y_train.unique(),height=y_train.value_counts(), color=colors)\n",
        "plt.title(\"Training data - classes counts\")\n",
        "plt.show()\n",
        "\n",
        "plt.bar(y_test.unique(),height=y_test.value_counts(), color=colors)\n",
        "plt.title(\"Testing data - classes counts\")\n",
        "plt.show()\n",
        "\n",
        "plt.bar(y_val.unique(),height=y_val.value_counts(), color=colors)\n",
        "plt.title(\"Validation data - classes counts\")\n",
        "plt.show()"
      ],
      "metadata": {
        "execution": {
          "iopub.status.busy": "2021-10-28T17:00:42.26372Z",
          "iopub.execute_input": "2021-10-28T17:00:42.264322Z",
          "iopub.status.idle": "2021-10-28T17:00:42.812352Z",
          "shell.execute_reply.started": "2021-10-28T17:00:42.264285Z",
          "shell.execute_reply": "2021-10-28T17:00:42.811716Z"
        },
        "trusted": true,
        "colab": {
          "base_uri": "https://localhost:8080/",
          "height": 809
        },
        "id": "_OFClA3aQpq9",
        "outputId": "2725e61c-cf88-4f59-8e4b-23284b3b1e48"
      },
      "execution_count": 11,
      "outputs": [
        {
          "output_type": "display_data",
          "data": {
            "text/plain": [
              "<Figure size 432x288 with 1 Axes>"
            ],
            "image/png": "[encoded data removed]"
          },
          "metadata": {
            "needs_background": "light"
          }
        },
        {
          "output_type": "display_data",
          "data": {
            "text/plain": [
              "<Figure size 432x288 with 1 Axes>"
            ],
            "image/png": "[encoded data removed]"
          },
          "metadata": {
            "needs_background": "light"
          }
        },
        {
          "output_type": "display_data",
          "data": {
            "text/plain": [
              "<Figure size 432x288 with 1 Axes>"
            ],
            "image/png": "[encoded data removed]"
          },
          "metadata": {
            "needs_background": "light"
          }
        }
      ]
    },
    {
      "cell_type": "code",
      "source": [
        "# Encode labels\n",
        "# Sudah disediakan beberapa variable, lengkapi variabel tersebut\n",
        "le = LabelEncoder()\n",
        "y_train = le.fit_transform(y_train)\n",
        "y_test = le.transform(y_test)\n",
        "y_val = le.transform(y_val)\n",
        "\n",
        "y_train = to_categorical(y_train)\n",
        "y_test = to_categorical(y_test)\n",
        "y_val = to_categorical(y_val)"
      ],
      "metadata": {
        "execution": {
          "iopub.status.busy": "2021-10-28T17:01:21.726601Z",
          "iopub.execute_input": "2021-10-28T17:01:21.72706Z",
          "iopub.status.idle": "2021-10-28T17:01:21.743992Z",
          "shell.execute_reply.started": "2021-10-28T17:01:21.727018Z",
          "shell.execute_reply": "2021-10-28T17:01:21.743311Z"
        },
        "trusted": true,
        "id": "V9F2tWMGQpq_"
      },
      "execution_count": 13,
      "outputs": []
    },
    {
      "cell_type": "code",
      "source": [
        "# Tokenize words\n",
        "tokenizer = Tokenizer()\n",
        "tokenizer.fit_on_texts(pd.concat([X_train, X_test], axis=0))\n",
        "\n",
        "\n",
        "sequences_train = tokenizer.texts_to_sequences(X_train)\n",
        "sequences_test = tokenizer.texts_to_sequences(X_test)\n",
        "sequences_val = tokenizer.texts_to_sequences(X_val)\n",
        "\n",
        "X_train = pad_sequences(sequences_train, maxlen=256, truncating='pre')\n",
        "X_test = pad_sequences(sequences_test, maxlen=256, truncating='pre')\n",
        "X_val = pad_sequences(sequences_val, maxlen=256, truncating='pre')\n",
        "\n",
        "vocabSize = len(tokenizer.index_word) + 1\n",
        "print(f\"Vocabulary size = {vocabSize}\")\n",
        "\n"
      ],
      "metadata": {
        "execution": {
          "iopub.status.busy": "2021-10-28T17:01:29.161255Z",
          "iopub.execute_input": "2021-10-28T17:01:29.161522Z",
          "iopub.status.idle": "2021-10-28T17:01:30.218061Z",
          "shell.execute_reply.started": "2021-10-28T17:01:29.161484Z",
          "shell.execute_reply": "2021-10-28T17:01:30.217279Z"
        },
        "trusted": true,
        "colab": {
          "base_uri": "https://localhost:8080/"
        },
        "id": "d40kAQnHQprC",
        "outputId": "9d7bb380-d783-41dd-af6b-5a3ff2ca53b5"
      },
      "execution_count": 14,
      "outputs": [
        {
          "output_type": "stream",
          "name": "stdout",
          "text": [
            "Vocabulary size = 11002\n"
          ]
        }
      ]
    },
    {
      "cell_type": "code",
      "source": [
        "# Read GloVE embeddings\n",
        "path_to_glove_file = '/content/drive/MyDrive/Proa-ML/Week6/assignment/glove.6B.200d.txt'\n",
        "num_tokens = vocabSize\n",
        "embedding_dim = 200\n",
        "hits = 0\n",
        "misses = 0\n",
        "embeddings_index = {}\n",
        "\n",
        "# Read word vectors\n",
        "with open(path_to_glove_file) as f:\n",
        "    for line in f:\n",
        "        word, coefs = line.split(maxsplit=1)\n",
        "        coefs = np.fromstring(coefs, \"f\", sep=\" \")\n",
        "        embeddings_index[word] = coefs\n",
        "print(\"Found %s word vectors.\" % len(embeddings_index))\n",
        "\n",
        "\n",
        "# Assign word vectors to our dictionary/vocabulary\n",
        "embedding_matrix = np.zeros((num_tokens, embedding_dim))\n",
        "for word, i in tokenizer.word_index.items():\n",
        "    embedding_vector = embeddings_index.get(word)\n",
        "    if embedding_vector is not None:\n",
        "        # Words not found in embedding index will be all-zeros.\n",
        "        # This includes the representation for \"padding\" and \"OOV\"\n",
        "        embedding_matrix[i] = embedding_vector\n",
        "        hits += 1\n",
        "    else:\n",
        "        misses += 1\n",
        "print(\"Converted %d words (%d misses)\" % (hits, misses))"
      ],
      "metadata": {
        "execution": {
          "iopub.status.busy": "2021-10-28T17:01:33.7402Z",
          "iopub.execute_input": "2021-10-28T17:01:33.740659Z",
          "iopub.status.idle": "2021-10-28T17:01:56.449165Z",
          "shell.execute_reply.started": "2021-10-28T17:01:33.740619Z",
          "shell.execute_reply": "2021-10-28T17:01:56.44837Z"
        },
        "trusted": true,
        "id": "e67R2xDlQprD",
        "colab": {
          "base_uri": "https://localhost:8080/"
        },
        "outputId": "7ba90bf5-972f-43fc-ffc8-283dc495ad43"
      },
      "execution_count": 15,
      "outputs": [
        {
          "output_type": "stream",
          "name": "stdout",
          "text": [
            "Found 400000 word vectors.\n",
            "Converted 7243 words (3758 misses)\n"
          ]
        }
      ]
    },
    {
      "cell_type": "code",
      "source": [
        "X_train.shape[0]"
      ],
      "metadata": {
        "colab": {
          "base_uri": "https://localhost:8080/"
        },
        "id": "lobdRMGkngFM",
        "outputId": "5dd9cc05-aee2-4683-cc9b-d24581184061"
      },
      "execution_count": 17,
      "outputs": [
        {
          "output_type": "execute_result",
          "data": {
            "text/plain": [
              "16000"
            ]
          },
          "metadata": {},
          "execution_count": 17
        }
      ]
    },
    {
      "cell_type": "code",
      "source": [
        "# Build neural network architecture\n",
        "\n",
        "adam = Adam(learning_rate=0.005)\n",
        "#code here\n",
        "max_words = 1000\n",
        "max_len = 256\n",
        "\n",
        "def RNN():\n",
        "    inputs = Input(name='inputs',shape=[max_len])\n",
        "    layer = Embedding(vocabSize,200,input_length=max_len)(inputs)\n",
        "    layer = LSTM(256, return_sequences=True)(layer)\n",
        "    layer = Dropout(0.2)(layer)\n",
        "    layer = LSTM(128)(layer)\n",
        "    layer = Dropout(0.2)(layer)\n",
        "    layer = Dense(256,name='FC1')(layer)\n",
        "    layer = Activation('sigmoid')(layer)\n",
        "    layer = Dropout(0.5)(layer)\n",
        "    layer = Dense(6,name='out_layer')(layer)\n",
        "    layer = Activation('softmax')(layer)\n",
        "    model = Model(inputs=inputs,outputs=layer)\n",
        "    return model\n",
        "\n",
        "model = RNN()\n",
        "\n",
        "model.compile(loss='categorical_crossentropy', optimizer=adam, metrics=['accuracy'])\n",
        "\n",
        "model.summary()"
      ],
      "metadata": {
        "execution": {
          "iopub.status.busy": "2021-10-28T17:02:11.518662Z",
          "iopub.execute_input": "2021-10-28T17:02:11.519376Z",
          "iopub.status.idle": "2021-10-28T17:02:13.214957Z",
          "shell.execute_reply.started": "2021-10-28T17:02:11.519339Z",
          "shell.execute_reply": "2021-10-28T17:02:13.214256Z"
        },
        "trusted": true,
        "id": "wSJWnBz2QprE",
        "colab": {
          "base_uri": "https://localhost:8080/"
        },
        "outputId": "59b2780b-85a5-42c1-f48a-2d8c2f84bbd2"
      },
      "execution_count": 30,
      "outputs": [
        {
          "output_type": "stream",
          "name": "stdout",
          "text": [
            "Model: \"model_3\"\n",
            "_________________________________________________________________\n",
            " Layer (type)                Output Shape              Param #   \n",
            "=================================================================\n",
            " inputs (InputLayer)         [(None, 256)]             0         \n",
            "                                                                 \n",
            " embedding_4 (Embedding)     (None, 256, 200)          2200400   \n",
            "                                                                 \n",
            " lstm_5 (LSTM)               (None, 256, 256)          467968    \n",
            "                                                                 \n",
            " dropout_3 (Dropout)         (None, 256, 256)          0         \n",
            "                                                                 \n",
            " lstm_6 (LSTM)               (None, 128)               197120    \n",
            "                                                                 \n",
            " dropout_4 (Dropout)         (None, 128)               0         \n",
            "                                                                 \n",
            " FC1 (Dense)                 (None, 256)               33024     \n",
            "                                                                 \n",
            " activation_6 (Activation)   (None, 256)               0         \n",
            "                                                                 \n",
            " dropout_5 (Dropout)         (None, 256)               0         \n",
            "                                                                 \n",
            " out_layer (Dense)           (None, 6)                 1542      \n",
            "                                                                 \n",
            " activation_7 (Activation)   (None, 6)                 0         \n",
            "                                                                 \n",
            "=================================================================\n",
            "Total params: 2,900,054\n",
            "Trainable params: 2,900,054\n",
            "Non-trainable params: 0\n",
            "_________________________________________________________________\n"
          ]
        }
      ]
    },
    {
      "cell_type": "code",
      "source": [
        "#Callback\n",
        "callback = EarlyStopping(\n",
        "    #code here (contains at least : monitor, patience, restore_best_weights)\n",
        "    monitor='loss',patience=5, restore_best_weights=True, verbose=1\n",
        ")"
      ],
      "metadata": {
        "execution": {
          "iopub.status.busy": "2021-10-28T17:02:20.557742Z",
          "iopub.execute_input": "2021-10-28T17:02:20.55807Z",
          "iopub.status.idle": "2021-10-28T17:02:20.562524Z",
          "shell.execute_reply.started": "2021-10-28T17:02:20.558037Z",
          "shell.execute_reply": "2021-10-28T17:02:20.561488Z"
        },
        "trusted": true,
        "id": "VSjuWsCsQprG"
      },
      "execution_count": 20,
      "outputs": []
    },
    {
      "cell_type": "code",
      "source": [
        "# Fit model\n",
        "# code here\n",
        "history = model.fit(X_train,\n",
        "                    y_train,\n",
        "                    validation_data=(X_test, y_test),\n",
        "                    verbose=1,\n",
        "                    batch_size=256,\n",
        "                    epochs=15,\n",
        "                    callbacks=[callback])"
      ],
      "metadata": {
        "execution": {
          "iopub.status.busy": "2021-10-28T17:02:22.580574Z",
          "iopub.execute_input": "2021-10-28T17:02:22.581177Z",
          "iopub.status.idle": "2021-10-28T17:09:55.805217Z",
          "shell.execute_reply.started": "2021-10-28T17:02:22.581141Z",
          "shell.execute_reply": "2021-10-28T17:09:55.804395Z"
        },
        "trusted": true,
        "id": "CM_GyHrFQprI",
        "colab": {
          "base_uri": "https://localhost:8080/"
        },
        "outputId": "7ee7f580-6330-4294-fdf6-ec32df5e017e"
      },
      "execution_count": 31,
      "outputs": [
        {
          "output_type": "stream",
          "name": "stdout",
          "text": [
            "Epoch 1/15\n",
            "63/63 [==============================] - 11s 128ms/step - loss: 1.5675 - accuracy: 0.3957 - val_loss: 1.0913 - val_accuracy: 0.6150\n",
            "Epoch 2/15\n",
            "63/63 [==============================] - 7s 118ms/step - loss: 0.7793 - accuracy: 0.7391 - val_loss: 0.5218 - val_accuracy: 0.8515\n",
            "Epoch 3/15\n",
            "63/63 [==============================] - 8s 120ms/step - loss: 0.3294 - accuracy: 0.8966 - val_loss: 0.2824 - val_accuracy: 0.9035\n",
            "Epoch 4/15\n",
            "63/63 [==============================] - 7s 119ms/step - loss: 0.1852 - accuracy: 0.9338 - val_loss: 0.2797 - val_accuracy: 0.9025\n",
            "Epoch 5/15\n",
            "63/63 [==============================] - 7s 117ms/step - loss: 0.1283 - accuracy: 0.9527 - val_loss: 0.3157 - val_accuracy: 0.8945\n",
            "Epoch 6/15\n",
            "63/63 [==============================] - 7s 116ms/step - loss: 0.0988 - accuracy: 0.9628 - val_loss: 0.3683 - val_accuracy: 0.8865\n",
            "Epoch 7/15\n",
            "63/63 [==============================] - 7s 114ms/step - loss: 0.0821 - accuracy: 0.9698 - val_loss: 0.3713 - val_accuracy: 0.8910\n",
            "Epoch 8/15\n",
            "63/63 [==============================] - 7s 114ms/step - loss: 0.0660 - accuracy: 0.9776 - val_loss: 0.4271 - val_accuracy: 0.8880\n",
            "Epoch 9/15\n",
            "63/63 [==============================] - 7s 113ms/step - loss: 0.0684 - accuracy: 0.9768 - val_loss: 0.4001 - val_accuracy: 0.8925\n",
            "Epoch 10/15\n",
            "63/63 [==============================] - 7s 114ms/step - loss: 0.0528 - accuracy: 0.9821 - val_loss: 0.4084 - val_accuracy: 0.8900\n",
            "Epoch 11/15\n",
            "63/63 [==============================] - 7s 114ms/step - loss: 0.0406 - accuracy: 0.9856 - val_loss: 0.4334 - val_accuracy: 0.9015\n",
            "Epoch 12/15\n",
            "63/63 [==============================] - 7s 115ms/step - loss: 0.0372 - accuracy: 0.9865 - val_loss: 0.4195 - val_accuracy: 0.9065\n",
            "Epoch 13/15\n",
            "63/63 [==============================] - 7s 115ms/step - loss: 0.0282 - accuracy: 0.9904 - val_loss: 0.4674 - val_accuracy: 0.8995\n",
            "Epoch 14/15\n",
            "63/63 [==============================] - 7s 118ms/step - loss: 0.0236 - accuracy: 0.9926 - val_loss: 0.4498 - val_accuracy: 0.9030\n",
            "Epoch 15/15\n",
            "63/63 [==============================] - 7s 116ms/step - loss: 0.0350 - accuracy: 0.9886 - val_loss: 0.4683 - val_accuracy: 0.9020\n"
          ]
        }
      ]
    },
    {
      "cell_type": "code",
      "source": [
        "model.evaluate(X_val, y_val, verbose=1)"
      ],
      "metadata": {
        "execution": {
          "iopub.status.busy": "2021-10-28T17:14:45.655628Z",
          "iopub.execute_input": "2021-10-28T17:14:45.656436Z",
          "iopub.status.idle": "2021-10-28T17:15:26.650347Z",
          "shell.execute_reply.started": "2021-10-28T17:14:45.656399Z",
          "shell.execute_reply": "2021-10-28T17:15:26.649551Z"
        },
        "trusted": true,
        "id": "Duln-TnJQprI",
        "colab": {
          "base_uri": "https://localhost:8080/"
        },
        "outputId": "8e6f6124-338b-40e4-8b86-2a0d8e889927"
      },
      "execution_count": 32,
      "outputs": [
        {
          "output_type": "stream",
          "name": "stdout",
          "text": [
            "63/63 [==============================] - 1s 15ms/step - loss: 0.4552 - accuracy: 0.9085\n"
          ]
        },
        {
          "output_type": "execute_result",
          "data": {
            "text/plain": [
              "[0.4551747739315033, 0.9085000157356262]"
            ]
          },
          "metadata": {},
          "execution_count": 32
        }
      ]
    },
    {
      "cell_type": "code",
      "source": [
        "# Visualize Loss & Accuracy\n",
        "\n",
        "%matplotlib inline\n",
        "import matplotlib.pyplot as plt\n",
        "acc = history.history['accuracy']\n",
        "val_acc = history.history['val_accuracy']\n",
        "loss = history.history['loss']\n",
        "val_loss = history.history['val_loss']\n",
        "\n",
        "epochs = range(len(acc))\n",
        "\n",
        "plt.plot(epochs, acc, 'r', label='Training accuracy')\n",
        "plt.plot(epochs, val_acc, 'b', label='Validation accuracy')\n",
        "plt.title('Training and validation accuracy')\n",
        "plt.legend()\n",
        "plt.figure()\n",
        "\n",
        "plt.plot(epochs, loss, 'r', label='Training Loss')\n",
        "plt.plot(epochs, val_loss, 'b', label='Validation Loss')\n",
        "plt.title('Training and validation loss')\n",
        "plt.legend()\n",
        "\n",
        "plt.show()"
      ],
      "metadata": {
        "execution": {
          "iopub.status.busy": "2021-10-28T17:15:31.082882Z",
          "iopub.execute_input": "2021-10-28T17:15:31.08361Z",
          "iopub.status.idle": "2021-10-28T17:15:31.495194Z",
          "shell.execute_reply.started": "2021-10-28T17:15:31.083557Z",
          "shell.execute_reply": "2021-10-28T17:15:31.494441Z"
        },
        "trusted": true,
        "id": "0E60nVznQprO",
        "colab": {
          "base_uri": "https://localhost:8080/",
          "height": 545
        },
        "outputId": "45a69892-e06e-42b3-bc32-2fca890a731c"
      },
      "execution_count": 33,
      "outputs": [
        {
          "output_type": "display_data",
          "data": {
            "text/plain": [
              "<Figure size 432x288 with 1 Axes>"
            ],
            "image/png": "[encoded data removed]"
          },
          "metadata": {
            "needs_background": "light"
          }
        },
        {
          "output_type": "display_data",
          "data": {
            "text/plain": [
              "<Figure size 432x288 with 1 Axes>"
            ],
            "image/png": "[encoded data removed]"
          },
          "metadata": {
            "needs_background": "light"
          }
        }
      ]
    },
    {
      "cell_type": "code",
      "source": [
        "# Classify custom sample\n",
        "\n",
        "sentences = [\n",
        "            \"I am enjoying daily life\"\n",
        "            ]\n",
        "for sentence in sentences:\n",
        "    print(sentence)\n",
        "    sentence = clean(sentence)\n",
        "    sentence = tokenizer.texts_to_sequences([sentence])\n",
        "    sentence = pad_sequences(sentence, maxlen=256, truncating='pre')\n",
        "    result = le.inverse_transform(np.argmax(model.predict(sentence), axis=-1))[0]\n",
        "    proba =  np.max(model.predict(sentence))\n",
        "    print(f\"{result} : {proba}\\n\")"
      ],
      "metadata": {
        "execution": {
          "iopub.status.busy": "2021-10-28T17:15:46.84557Z",
          "iopub.execute_input": "2021-10-28T17:15:46.845844Z",
          "iopub.status.idle": "2021-10-28T17:15:49.10411Z",
          "shell.execute_reply.started": "2021-10-28T17:15:46.845813Z",
          "shell.execute_reply": "2021-10-28T17:15:49.103351Z"
        },
        "trusted": true,
        "id": "hFGFd0gQQprP",
        "colab": {
          "base_uri": "https://localhost:8080/"
        },
        "outputId": "36cc7661-4cd2-44b4-ae57-cbd28beae972"
      },
      "execution_count": 34,
      "outputs": [
        {
          "output_type": "stream",
          "name": "stdout",
          "text": [
            "I am enjoying daily life\n",
            "1 : 0.9789562821388245\n",
            "\n"
          ]
        }
      ]
    },
    {
      "cell_type": "code",
      "source": [
        "import pickle\n",
        "with open('tokenizer.pickle', 'wb') as f:\n",
        "    pickle.dump(tokenizer, f)\n",
        "    \n",
        "with open('labelEncoder.pickle', 'wb') as f:\n",
        "    pickle.dump(le, f)\n",
        "    \n",
        "    \n",
        "model.save('Emotion Recognition.h5')"
      ],
      "metadata": {
        "id": "1OAz47lBQprP"
      },
      "execution_count": 35,
      "outputs": []
    }
  ]
}